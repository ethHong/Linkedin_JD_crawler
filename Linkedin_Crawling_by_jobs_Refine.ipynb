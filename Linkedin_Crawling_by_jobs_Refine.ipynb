{
 "cells": [
  {
   "cell_type": "code",
   "execution_count": 1,
   "metadata": {},
   "outputs": [],
   "source": [
    "import pandas as pd\n",
    "import numpy as np\n",
    "from bs4 import BeautifulSoup\n",
    "import urllib\n",
    "from urllib import request\n",
    "import re\n",
    "from selenium import webdriver\n",
    "from selenium.webdriver.common.keys import Keys\n",
    "from selenium.webdriver import ActionChains  \n",
    "from selenium.webdriver.support.ui import WebDriverWait\n",
    "from selenium.webdriver.support import expected_conditions as EC\n",
    "from selenium.webdriver.common.by import By\n",
    "import os\n",
    "from fake_useragent import UserAgent\n",
    "from tqdm.notebook import trange"
   ]
  },
  {
   "cell_type": "markdown",
   "metadata": {},
   "source": [
    "Type 1: job 별\n"
   ]
  },
  {
   "cell_type": "code",
   "execution_count": 2,
   "metadata": {},
   "outputs": [],
   "source": [
    "options = webdriver.ChromeOptions()\n",
    "options.add_experimental_option('excludeSwitches', ['enable-automation']) \n"
   ]
  },
  {
   "cell_type": "code",
   "execution_count": 3,
   "metadata": {},
   "outputs": [],
   "source": [
    "def mock_user_agent():\n",
    "    ua = UserAgent()\n",
    "    \n",
    "    working = \"Mozilla/5.0 (Macintosh; Intel Mac OS X 10_15_6) AppleWebKit/605.1.15 (KHTML, like Gecko) Version/14.0.1 Safari/605.1.15\"\n",
    "    working_tail = \"(\" + working.split(\"(\")[-1]\n",
    "    random_head = ua.random.split(\"(\")[0]+\"(\"+ua.random.split(\"(\")[1]\n",
    "    return random_head + working_tail"
   ]
  },
  {
   "cell_type": "code",
   "execution_count": 4,
   "metadata": {},
   "outputs": [
    {
     "data": {
      "text/plain": [
       "'Mozilla/5.0 (X11; CrOS i686 4319.74.0) AppleWebKit/537.36 (KHTML, like Gecko) Version/14.0.1 Safari/605.1.15'"
      ]
     },
     "execution_count": 4,
     "metadata": {},
     "output_type": "execute_result"
    }
   ],
   "source": [
    "mock_user_agent()"
   ]
  },
  {
   "cell_type": "code",
   "execution_count": 5,
   "metadata": {},
   "outputs": [
    {
     "name": "stderr",
     "output_type": "stream",
     "text": [
      "/Users/HongSukhyun/opt/anaconda3/lib/python3.7/site-packages/ipykernel_launcher.py:7: DeprecationWarning: use options instead of chrome_options\n",
      "  import sys\n"
     ]
    }
   ],
   "source": [
    "userAgent = mock_user_agent()\n",
    "options.add_argument(f'user-agent={userAgent}')\n",
    "#driver =  webdriver.Chrome(\"/Users/HongSukhyun/Desktop/SukhyunHong/20-2/UDS/Course_Recommendation/chromedriver\")\n",
    "#driverpath = os.getcwd()+\"/chromedriver_win\"\n",
    "\n",
    "driverpath = os.getcwd()+\"/chromedriver\"\n",
    "driver =  webdriver.Chrome(driverpath,  chrome_options=options)\n",
    "\n",
    "wait = WebDriverWait(driver, 10)\n",
    "\n",
    "def Login_linkedin(driver):\n",
    "\n",
    "    url = \"https://www.linkedin.com/\"\n",
    "   \n",
    "    driver.get(url)\n",
    "    #driver.find_element_by_xpath('/html/body/div/main/p/a').click()\n",
    "    \n",
    "    ID = input(\"ID (Email)\")\n",
    "    PASS = input(\"PASSWORD\")\n",
    "    \n",
    "    elem = driver.find_element_by_xpath('//*[@id=\"session_key\"]')\n",
    "    elem.send_keys(ID)\n",
    "    elem = driver.find_element_by_xpath('//*[@id=\"session_password\"]')\n",
    "    elem.send_keys(PASS)\n",
    "    \n",
    "   \n",
    "    driver.find_element_by_xpath('/html/body/main/section[1]/div[2]/form/button').click()\n",
    "    "
   ]
  },
  {
   "cell_type": "code",
   "execution_count": 6,
   "metadata": {},
   "outputs": [],
   "source": [
    "def refresh_link(continue_link):\n",
    "    userAgent = mock_user_agent()\n",
    "    options.add_argument(f'user-agent={userAgent}')\n",
    "    driverpath = os.getcwd()+\"/chromedriver\"\n",
    "    driver =  webdriver.Chrome(driverpath,  chrome_options=options)\n",
    "    \n",
    "    Login_linkedin(driver)\n",
    "    \n",
    "    driver.get(continue_link)\n",
    "    "
   ]
  },
  {
   "cell_type": "code",
   "execution_count": 7,
   "metadata": {},
   "outputs": [],
   "source": [
    "Login_linkedin(driver)"
   ]
  },
  {
   "cell_type": "code",
   "execution_count": 8,
   "metadata": {},
   "outputs": [
    {
     "name": "stdout",
     "output_type": "stream",
     "text": [
      "Put your job position: strategy\n"
     ]
    }
   ],
   "source": [
    "job = input(\"Put your job position: \")\n",
    "region = \"대한민국\""
   ]
  },
  {
   "cell_type": "code",
   "execution_count": 9,
   "metadata": {},
   "outputs": [],
   "source": [
    "header = \"https://www.linkedin.com/jobs/search/?geoId=105149562&keywords=\"\n",
    "\n",
    "def refine(c):\n",
    "    c_ref = \"-\".join(c.split(\" \")).lower()\n",
    "    return c_ref\n",
    "\n",
    "link = header + refine(job)\n",
    "driver.get(link)"
   ]
  },
  {
   "cell_type": "code",
   "execution_count": 10,
   "metadata": {},
   "outputs": [],
   "source": [
    "html = driver.page_source\n",
    "soup = BeautifulSoup(html, \"html.parser\") \n",
    "driver.implicitly_wait(10)"
   ]
  },
  {
   "cell_type": "code",
   "execution_count": 11,
   "metadata": {},
   "outputs": [],
   "source": [
    "element = WebDriverWait(driver, 10).until(\n",
    "        EC.presence_of_element_located((By.XPATH, '/html/body/div[7]/div[3]/div[3]/div/div/div/div/section/div/ul'))\n",
    "    )"
   ]
  },
  {
   "cell_type": "code",
   "execution_count": 12,
   "metadata": {},
   "outputs": [],
   "source": [
    "pages = soup.find(\"ul\", {\"class\": \"artdeco-pagination__pages artdeco-pagination__pages--number\"}).find_all(\"li\")"
   ]
  },
  {
   "cell_type": "code",
   "execution_count": 13,
   "metadata": {},
   "outputs": [],
   "source": [
    "total_page = int(pages[-1].text.strip()) # # of total page"
   ]
  },
  {
   "cell_type": "code",
   "execution_count": 14,
   "metadata": {},
   "outputs": [],
   "source": [
    "def refresh_source_pages():\n",
    "    html = driver.page_source\n",
    "    soup = BeautifulSoup(html, \"html.parser\") \n",
    "    driver.implicitly_wait(10)\n",
    "    try:\n",
    "        p = soup.find(\"ul\", {\"class\": \"artdeco-pagination__pages artdeco-pagination__pages--number\"}).find_all(\"li\")\n",
    "    except:\n",
    "        driver.get(driver.current_url)\n",
    "        p = soup.find(\"ul\", {\"class\": \"artdeco-pagination__pages artdeco-pagination__pages--number\"}).find_all(\"li\")\n",
    "    return [p, soup]"
   ]
  },
  {
   "cell_type": "code",
   "execution_count": 15,
   "metadata": {},
   "outputs": [],
   "source": [
    "def crawl_jd():\n",
    "    soup = refresh_source_pages()[1]\n",
    "\n",
    "    potision = []\n",
    "    job_details = []\n",
    "\n",
    "    jobs = soup.find_all(\"li\", {\"class\": \"jobs-search-results__list-item occludable-update p0 relative ember-view\"})\n",
    "    jobs_id = [i[\"id\"] for i in jobs]\n",
    "    \n",
    "    for i in jobs_id:\n",
    "        driver.find_element_by_xpath('//*[@id=\"{}\"]'.format(i)).click()\n",
    "\n",
    "        driver.implicitly_wait(10)\n",
    "        #refresh page source\n",
    "        soup = refresh_source_pages()[1]\n",
    "        \n",
    "        driver.implicitly_wait(10)\n",
    "        \n",
    "        Position =soup.find(\"h2\", {\"class\": \"jobs-details-top-card__job-title t-20 t-black t-normal\"}).text.rstrip()\n",
    "\n",
    "        Job_Details = soup.find(\"div\", {\"id\":\"job-details\"}).text.strip()\n",
    "        potision.append(Position)\n",
    "        job_details.append(Job_Details)\n",
    "\n",
    "    \n",
    "    return pd.DataFrame({\"Position\" : potision, \"Job_Details\": job_details})"
   ]
  },
  {
   "cell_type": "code",
   "execution_count": 16,
   "metadata": {},
   "outputs": [],
   "source": [
    "how_many = 3 #안전하게 3번마다 Refresh"
   ]
  },
  {
   "cell_type": "code",
   "execution_count": 17,
   "metadata": {},
   "outputs": [],
   "source": [
    "pages = refresh_source_pages()[0]\n",
    "soup = refresh_source_pages()[1]"
   ]
  },
  {
   "cell_type": "code",
   "execution_count": 18,
   "metadata": {},
   "outputs": [],
   "source": [
    "#Start Page 넣으면 알아서 크롤링하게 만들기\n",
    "def crawl_job_description(starting_page, how_many, start_url):\n",
    "    driver.get(start_url)\n",
    "    \n",
    "    driver.implicitly_wait(10)\n",
    "    \n",
    "    pages = refresh_source_pages()[0]\n",
    "    soup = refresh_source_pages()[1]\n",
    "    \n",
    "    current = starting_page\n",
    "    df = pd.DataFrame()\n",
    "\n",
    "    for i in trange(starting_page-1, how_many+starting_page-1):\n",
    "    \n",
    "        print (\"Crawling {} out of {} pages...\".format(current, total_page))\n",
    "\n",
    "        pages_meta = [j.text.strip().split()[0] for j in pages]    \n",
    "\n",
    "        #Do Crawling#\n",
    "        crawed_page = crawl_jd()\n",
    "        df = pd.concat([df, crawed_page])\n",
    "        current = current+1\n",
    "        #Move page \n",
    "        try:\n",
    "            index_of_next_page = pages_meta.index(str(i+2))\n",
    "        except ValueError:\n",
    "            index_of_next_page = len(pages_meta) -1 - pages_meta[::-1].index('…')\n",
    "\n",
    "        button_aria_label = pages[index_of_next_page].find(\"button\")[\"aria-label\"]\n",
    "\n",
    "        #해당 버튼이 나올때까지 기다려주기\n",
    "\n",
    "        driver.implicitly_wait(10)\n",
    "\n",
    "        try:\n",
    "            driver.find_element_by_xpath('//*[@aria-label=\"{}\"]'.format(button_aria_label)).click()\n",
    "\n",
    "        except:\n",
    "            driver.get(driver.current_url)\n",
    "            driver.implicitly_wait(10)\n",
    "            button_aria_label = str(int(button_aria_label.split()[0])+1) + \" \" + button_aria_label.split()[1]\n",
    "            driver.find_element_by_xpath('//*[@aria-label=\"{}\"]'.format(button_aria_label)).click()\n",
    "\n",
    "        \n",
    "        driver.implicitly_wait(10)\n",
    "        print (\"Upcoming page is {}\".format(starting_page+i+1))\n",
    "        upcoming = driver.current_url\n",
    "        #Refresh List\n",
    "        try:\n",
    "            pages = refresh_source_pages()[0]\n",
    "        except:\n",
    "            driver.get(driver.current_url)\n",
    "            driver.implicitly_wait(10)\n",
    "        \n",
    "    return (df, upcoming)"
   ]
  },
  {
   "cell_type": "code",
   "execution_count": 19,
   "metadata": {},
   "outputs": [
    {
     "data": {
      "application/vnd.jupyter.widget-view+json": {
       "model_id": "51630a352f4d4c66aba26e759d689087",
       "version_major": 2,
       "version_minor": 0
      },
      "text/plain": [
       "HBox(children=(FloatProgress(value=0.0, max=8.0), HTML(value='')))"
      ]
     },
     "metadata": {},
     "output_type": "display_data"
    },
    {
     "data": {
      "application/vnd.jupyter.widget-view+json": {
       "model_id": "60c695b3e2fe4ef0a7c4f76814a3ac55",
       "version_major": 2,
       "version_minor": 0
      },
      "text/plain": [
       "HBox(children=(FloatProgress(value=0.0, max=3.0), HTML(value='')))"
      ]
     },
     "metadata": {},
     "output_type": "display_data"
    },
    {
     "name": "stdout",
     "output_type": "stream",
     "text": [
      "Crawling 1 out of 25 pages...\n",
      "Upcoming page is 2\n",
      "Crawling 2 out of 25 pages...\n",
      "Upcoming page is 3\n",
      "Crawling 3 out of 25 pages...\n",
      "Upcoming page is 4\n",
      "\n",
      "Refreshing for 1 times\n"
     ]
    },
    {
     "name": "stderr",
     "output_type": "stream",
     "text": [
      "/Users/HongSukhyun/opt/anaconda3/lib/python3.7/site-packages/ipykernel_launcher.py:5: DeprecationWarning: use options instead of chrome_options\n",
      "  \"\"\"\n"
     ]
    },
    {
     "data": {
      "application/vnd.jupyter.widget-view+json": {
       "model_id": "61d4aceefe9747ce9b78df9083c06f8a",
       "version_major": 2,
       "version_minor": 0
      },
      "text/plain": [
       "HBox(children=(FloatProgress(value=0.0, max=3.0), HTML(value='')))"
      ]
     },
     "metadata": {},
     "output_type": "display_data"
    },
    {
     "name": "stdout",
     "output_type": "stream",
     "text": [
      "Crawling 4 out of 25 pages...\n",
      "Upcoming page is 8\n",
      "Crawling 5 out of 25 pages...\n",
      "Upcoming page is 9\n",
      "Crawling 6 out of 25 pages...\n",
      "Upcoming page is 10\n",
      "\n",
      "Refreshing for 2 times\n"
     ]
    },
    {
     "data": {
      "application/vnd.jupyter.widget-view+json": {
       "model_id": "458b74f2de7a4e38abae715dcb6c4bb6",
       "version_major": 2,
       "version_minor": 0
      },
      "text/plain": [
       "HBox(children=(FloatProgress(value=0.0, max=3.0), HTML(value='')))"
      ]
     },
     "metadata": {},
     "output_type": "display_data"
    },
    {
     "name": "stdout",
     "output_type": "stream",
     "text": [
      "Crawling 7 out of 25 pages...\n",
      "Upcoming page is 14\n",
      "Crawling 8 out of 25 pages...\n",
      "Upcoming page is 15\n",
      "Crawling 9 out of 25 pages...\n",
      "Upcoming page is 16\n",
      "\n",
      "Refreshing for 3 times\n"
     ]
    },
    {
     "data": {
      "application/vnd.jupyter.widget-view+json": {
       "model_id": "b75db00c0e9f4607957d4efd9b14b470",
       "version_major": 2,
       "version_minor": 0
      },
      "text/plain": [
       "HBox(children=(FloatProgress(value=0.0, max=3.0), HTML(value='')))"
      ]
     },
     "metadata": {},
     "output_type": "display_data"
    },
    {
     "name": "stdout",
     "output_type": "stream",
     "text": [
      "Crawling 10 out of 25 pages...\n",
      "Upcoming page is 20\n",
      "Crawling 11 out of 25 pages...\n",
      "Upcoming page is 21\n",
      "Crawling 12 out of 25 pages...\n",
      "Upcoming page is 22\n",
      "\n",
      "Refreshing for 4 times\n"
     ]
    },
    {
     "data": {
      "application/vnd.jupyter.widget-view+json": {
       "model_id": "cd1f786f743541b2a6132c780679caa9",
       "version_major": 2,
       "version_minor": 0
      },
      "text/plain": [
       "HBox(children=(FloatProgress(value=0.0, max=3.0), HTML(value='')))"
      ]
     },
     "metadata": {},
     "output_type": "display_data"
    },
    {
     "name": "stdout",
     "output_type": "stream",
     "text": [
      "Crawling 13 out of 25 pages...\n",
      "Upcoming page is 26\n",
      "Crawling 14 out of 25 pages...\n",
      "Upcoming page is 27\n",
      "Crawling 15 out of 25 pages...\n",
      "Upcoming page is 28\n",
      "\n",
      "Refreshing for 5 times\n"
     ]
    },
    {
     "data": {
      "application/vnd.jupyter.widget-view+json": {
       "model_id": "0463ec12dd5c45a9809ca366ee6c1008",
       "version_major": 2,
       "version_minor": 0
      },
      "text/plain": [
       "HBox(children=(FloatProgress(value=0.0, max=3.0), HTML(value='')))"
      ]
     },
     "metadata": {},
     "output_type": "display_data"
    },
    {
     "name": "stdout",
     "output_type": "stream",
     "text": [
      "Crawling 16 out of 25 pages...\n",
      "Upcoming page is 32\n",
      "Crawling 17 out of 25 pages...\n",
      "Upcoming page is 33\n",
      "Crawling 18 out of 25 pages...\n",
      "Upcoming page is 34\n",
      "\n",
      "Refreshing for 6 times\n"
     ]
    },
    {
     "data": {
      "application/vnd.jupyter.widget-view+json": {
       "model_id": "e37ab2475e164fb49823de8fdff4b41e",
       "version_major": 2,
       "version_minor": 0
      },
      "text/plain": [
       "HBox(children=(FloatProgress(value=0.0, max=3.0), HTML(value='')))"
      ]
     },
     "metadata": {},
     "output_type": "display_data"
    },
    {
     "name": "stdout",
     "output_type": "stream",
     "text": [
      "Crawling 19 out of 25 pages...\n",
      "Upcoming page is 38\n",
      "Crawling 20 out of 25 pages...\n",
      "Upcoming page is 39\n",
      "Crawling 21 out of 25 pages...\n",
      "Upcoming page is 40\n",
      "\n",
      "Refreshing for 7 times\n"
     ]
    },
    {
     "data": {
      "application/vnd.jupyter.widget-view+json": {
       "model_id": "e97aee5e47fa40968f10287c4fd161f4",
       "version_major": 2,
       "version_minor": 0
      },
      "text/plain": [
       "HBox(children=(FloatProgress(value=0.0, max=3.0), HTML(value='')))"
      ]
     },
     "metadata": {},
     "output_type": "display_data"
    },
    {
     "name": "stdout",
     "output_type": "stream",
     "text": [
      "Crawling 22 out of 25 pages...\n",
      "Upcoming page is 44\n",
      "Crawling 23 out of 25 pages...\n",
      "Upcoming page is 45\n",
      "Crawling 24 out of 25 pages...\n",
      "Upcoming page is 46\n",
      "\n",
      "Refreshing for 8 times\n",
      "\n"
     ]
    }
   ],
   "source": [
    "import time\n",
    "df = pd.DataFrame()\n",
    "start_url = driver.current_url\n",
    "\n",
    "for i in trange(total_page//how_many):\n",
    "    starting_page_num = 1+(3*i)\n",
    "    \n",
    "    try:\n",
    "        out = crawl_job_description(starting_page_num, 3, start_url)\n",
    "    except:\n",
    "        refresh_link(start_url)\n",
    "        driver.implicitly_wait(10)\n",
    "        out = crawl_job_description(starting_page_num, 3, start_url)\n",
    "    start_url = out[1]\n",
    "    df =  pd.concat([df, out[0]])\n",
    "    print (\"Refreshing for {} times\".format(i+1))\n",
    "    refresh_link(start_url)\n",
    "    \n",
    "    time.sleep(5)"
   ]
  },
  {
   "cell_type": "code",
   "execution_count": 21,
   "metadata": {},
   "outputs": [],
   "source": [
    "df.to_csv(\"JD_Operations.csv\", index = False)"
   ]
  },
  {
   "cell_type": "code",
   "execution_count": null,
   "metadata": {},
   "outputs": [],
   "source": []
  }
 ],
 "metadata": {
  "kernelspec": {
   "display_name": "Python 3",
   "language": "python",
   "name": "python3"
  },
  "language_info": {
   "codemirror_mode": {
    "name": "ipython",
    "version": 3
   },
   "file_extension": ".py",
   "mimetype": "text/x-python",
   "name": "python",
   "nbconvert_exporter": "python",
   "pygments_lexer": "ipython3",
   "version": "3.7.6"
  }
 },
 "nbformat": 4,
 "nbformat_minor": 4
}
